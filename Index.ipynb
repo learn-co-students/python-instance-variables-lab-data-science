{
 "cells": [
  {
   "cell_type": "markdown",
   "metadata": {},
   "source": [
    "# Practice with Instance Variables"
   ]
  },
  {
   "cell_type": "markdown",
   "metadata": {},
   "source": [
    "## Introduction\n",
    "In this lab, we will practice using instance variables, which we use to store information about a particular instance object. We will use our `fuber` theme and create some methods that operate on our instance variables to return some valuable information about our passenger and driver instance objects."
   ]
  },
  {
   "cell_type": "markdown",
   "metadata": {},
   "source": [
    "## Objectives\n",
    "\n",
    "* Define instance variables\n",
    "* Describe how instance variables give objects attributes and properties"
   ]
  },
  {
   "cell_type": "markdown",
   "metadata": {},
   "source": [
    "## Instructions"
   ]
  },
  {
   "cell_type": "markdown",
   "metadata": {},
   "source": [
    "Below, define classes for both a Driver and a Passenger -- for now just define the classes and remember to include the keyword `pass` so that we will have valid syntax for our classes."
   ]
  },
  {
   "cell_type": "code",
   "execution_count": null,
   "metadata": {},
   "outputs": [],
   "source": [
    "# Driver class\n",
    "class Driver:\n",
    "    pass"
   ]
  },
  {
   "cell_type": "code",
   "execution_count": null,
   "metadata": {},
   "outputs": [],
   "source": [
    "# Passenger class\n",
    "class Passenger:\n",
    "    pass"
   ]
  },
  {
   "cell_type": "markdown",
   "metadata": {},
   "source": [
    "Now let's instantiate a new instance of a passenger and a new instance of a driver. Give the passenger a `rating` of `4.9` and give the driver a `miles_driven` attribute of `100,000`."
   ]
  },
  {
   "cell_type": "code",
   "execution_count": null,
   "metadata": {},
   "outputs": [],
   "source": [
    "driver = Driver() # assign a driver instance\n",
    "# give the driver instance object 'miles_driven' of 100000\n",
    "driver.miles_driven = 100000\n",
    "passenger = Passenger() # assign the passenger instance\n",
    "# give the passenger instance object a 'rating' of 4.9\n",
    "passenger.rating = 4.9"
   ]
  },
  {
   "cell_type": "markdown",
   "metadata": {},
   "source": [
    "Say we wanted to find a driver with a given name -- how would we do that? Well, we could define a function that takes in a list of driver instance objects and the name we are searching for. We'll have to check each driver instance for their name and see if it matches the one given.\n",
    "\n",
    "If there are no drivers with the name we are searching, our function should return a message telling us it couldn't find that particular driver. For example, if we are looking for a driver named 'Jack' but cannot find one, we should get the message:\n",
    "```python\n",
    "\"Sorry we couldn't find a driver with the name, Jack! :(\"\n",
    "```"
   ]
  },
  {
   "cell_type": "code",
   "execution_count": null,
   "metadata": {},
   "outputs": [],
   "source": [
    "alex_driver = Driver()\n",
    "alex_driver.name = \"alex\"\n",
    "alex_driver.rating = 9.0\n",
    "michelle_driver = Driver()\n",
    "michelle_driver.name = \"michelle\"\n",
    "michelle_driver.rating = 8.0\n",
    "jake_driver = Driver()\n",
    "jake_driver.name = \"jake\"\n",
    "jake_driver.rating = 9.7\n",
    "ashleigh_driver = Driver()\n",
    "ashleigh_driver.name = \"ashleigh\"\n",
    "ashleigh_driver.rating = 8.75\n",
    "list_of_drivers = [alex_driver, michelle_driver, jake_driver, ashleigh_driver]\n",
    "print(find_driver_by_name(list_of_drivers, \"jake\"))\n",
    "print(find_driver_by_name(list_of_drivers, \"michelle\"))\n",
    "print(find_driver_by_name(list_of_drivers, \"allison\"))"
   ]
  },
  {
   "cell_type": "code",
   "execution_count": null,
   "metadata": {},
   "outputs": [],
   "source": [
    "def find_driver_by_name(drivers, name):\n",
    "    # write your code here\n",
    "    for driver in drivers:\n",
    "        if driver.name == name:\n",
    "            return driver\n",
    "    return f\"Sorry we couldn't find a driver with the name, {name}! :(\"        "
   ]
  },
  {
   "cell_type": "markdown",
   "metadata": {},
   "source": [
    "Cool! That looks like it worked. We can see that the method returns the Driver instance object when it finds an instance with the given name and returns a message saying that driver does not exist, if it cannot find a driver with that name. Now try writing a method that will return a list of instance objects that start with a given substring like the letter `'a'`."
   ]
  },
  {
   "cell_type": "code",
   "execution_count": null,
   "metadata": {},
   "outputs": [],
   "source": [
    "# write your method here that returns the list of \n",
    "# drivers whose name starts which the letter 'a'\n",
    "def name_starts_with(drivers, substring):\n",
    "    return [driver for driver in drivers if driver.startswith(subtstring)]"
   ]
  },
  {
   "cell_type": "markdown",
   "metadata": {},
   "source": [
    "Next, let's use our list of drivers to define a method that returns the driver with the highest rating."
   ]
  },
  {
   "cell_type": "code",
   "execution_count": null,
   "metadata": {},
   "outputs": [],
   "source": [
    "# write your method here that returns the driver with the highest rating\n",
    "def highest_rated_driver(drivers):\n",
    "    highest_rated = drivers[0]\n",
    "    for driver in drivers:\n",
    "        if driver.rating > highest_rated.rating:\n",
    "            highest_rated = driver\n",
    "    return highest_rated"
   ]
  },
  {
   "cell_type": "markdown",
   "metadata": {},
   "source": [
    "## Summary\n",
    "In this lesson we saw how to define instance variables and saw how to use them in order to give our instance objects attributes and added complexity. We then saw how to define instance methods and call them on our instance objects. "
   ]
  },
  {
   "cell_type": "markdown",
   "metadata": {},
   "source": [
    "## Bonus"
   ]
  },
  {
   "cell_type": "markdown",
   "metadata": {},
   "source": [
    "Okay, now let's work on creating more complex instance objects with more interesting instance methods. Let's define a `NewDriver` class with an instance method called, `passenger_names`. Then, instantiate a new instance of the NewDriver class called `best_driver` that has the attributes `name`, `car_make`, `car_model`, `age`, and `passengers`. The `passengers` attribute will point to the list of passenger instances, which is provided below as `list_of_passengers`:"
   ]
  },
  {
   "cell_type": "code",
   "execution_count": null,
   "metadata": {},
   "outputs": [],
   "source": [
    "class NewDriver:\n",
    "    \n",
    "    def passenger_names(self):\n",
    "        # your code goes here\n",
    "        pass"
   ]
  },
  {
   "cell_type": "code",
   "execution_count": null,
   "metadata": {},
   "outputs": [],
   "source": [
    "alex_passenger = Passenger()\n",
    "alex_passenger.name = \"alex\"\n",
    "michelle_passenger = Passenger()\n",
    "michelle_passenger.name = \"michelle\"\n",
    "jake_passenger = Passenger()\n",
    "jake_passenger.name = \"jake\"\n",
    "ashleigh_passenger = Passenger()\n",
    "ashleigh_passenger.name = \"ashleigh\"\n",
    "list_of_passengers: [alex_passenger, michelle_passenger, jake_passenger, ashleigh_passenger]"
   ]
  },
  {
   "cell_type": "code",
   "execution_count": null,
   "metadata": {},
   "outputs": [],
   "source": [
    "best_driver = None # instantiate a NewDriver instance object\n",
    "# add the name attribute and assign it 'Garol'\n",
    "# add the car_make attribute and assign it 'toyota'\n",
    "# add the car_model attribute and assign it 'camry'\n",
    "# add the age attribute and assign it '30'\n",
    "# add the passengers attribute and assign it to the list_of_passengers"
   ]
  },
  {
   "cell_type": "markdown",
   "metadata": {},
   "source": [
    "Alright, great! Now we have some attributes on our driver that we can work with. Let's create an instance method in the Driver class called `passenger_names` which returns a list of all the passengers' names/\n",
    "Your output should look like `['alex', 'michelle', 'jake', 'ashleigh']`."
   ]
  },
  {
   "cell_type": "code",
   "execution_count": null,
   "metadata": {},
   "outputs": [],
   "source": [
    "names_of_passengers = None # assign the return of best_driver.passenger_names()"
   ]
  },
  {
   "cell_type": "markdown",
   "metadata": {},
   "source": [
    "If you would like to see a more formatted list, try calling the method below on the best_driver instance:"
   ]
  },
  {
   "cell_type": "code",
   "execution_count": null,
   "metadata": {},
   "outputs": [],
   "source": [
    "def display_names():\n",
    "    i = 1\n",
    "    for name in best_driver.passenger_names():\n",
    "        print(\"{}. {}\".format(i, name))\n",
    "        i += 1\n",
    "\n",
    "# call display_names to see a formatted list of names"
   ]
  },
  {
   "cell_type": "markdown",
   "metadata": {},
   "source": [
    "Neat -- great work! "
   ]
  },
  {
   "cell_type": "markdown",
   "metadata": {},
   "source": [
    "## Summary"
   ]
  },
  {
   "cell_type": "markdown",
   "metadata": {},
   "source": [
    "In this lab, we practiced creating instance variables that add information to our instance objects. We then used instance methods that used and operated on these instance variables to answer questions and return information about our instance objects."
   ]
  }
 ],
 "metadata": {
  "kernelspec": {
   "display_name": "Python 3",
   "language": "python",
   "name": "python3"
  },
  "language_info": {
   "codemirror_mode": {
    "name": "ipython",
    "version": 3
   },
   "file_extension": ".py",
   "mimetype": "text/x-python",
   "name": "python",
   "nbconvert_exporter": "python",
   "pygments_lexer": "ipython3",
   "version": "3.6.5"
  }
 },
 "nbformat": 4,
 "nbformat_minor": 2
}
